{
  "nbformat": 4,
  "nbformat_minor": 0,
  "metadata": {
    "colab": {
      "provenance": [],
      "authorship_tag": "ABX9TyOJlavr/FEqS/jwhPvoAxl2",
      "include_colab_link": true
    },
    "kernelspec": {
      "name": "python3",
      "display_name": "Python 3"
    },
    "language_info": {
      "name": "python"
    }
  },
  "cells": [
    {
      "cell_type": "markdown",
      "metadata": {
        "id": "view-in-github",
        "colab_type": "text"
      },
      "source": [
        "<a href=\"https://colab.research.google.com/github/wer310/WoWImg2Img/blob/main/notebooks/WoWImg2Img.ipynb\" target=\"_parent\"><img src=\"https://colab.research.google.com/assets/colab-badge.svg\" alt=\"Open In Colab\"/></a>"
      ]
    },
    {
      "cell_type": "markdown",
      "source": [
        "# WoWImg2Img\n",
        "Привет! Я, Arigadam, представляю WoWImg2Img! Это код использующий 2 нейросети где одна конвертирует изображение в текст а другая генерирует изображение по этому тексту! Инструкция и лицензия ниже."
      ],
      "metadata": {
        "id": "KE9-y6k3AzOB"
      }
    },
    {
      "cell_type": "markdown",
      "source": [
        "# Инструкция\n",
        "Поменяйте среду выполнения на `T4 GPU` (если ещё не поменялось) и выполняйте инструкцию."
      ],
      "metadata": {
        "id": "QHAiOJvLB5Gq"
      }
    },
    {
      "cell_type": "code",
      "source": [
        "\n",
        "#@title Установка библиотек\n",
        "#@markdown запустите ячейку и дождитесь окончания установки библиотек\n",
        "!pip install -U safetensors diffusers accelerate gradio==3.41.0"
      ],
      "metadata": {
        "cellView": "form",
        "id": "0acqPtAcAsay"
      },
      "execution_count": null,
      "outputs": []
    },
    {
      "cell_type": "code",
      "source": [
        "#@title Запуск программы\n",
        "#@markdown Все готово! **Запускай ячейку** и на выходе у тебя появится сама программа!\n",
        "#@markdown\n",
        "#@markdown (*программа может долго грузится*)\n",
        "import gradio\n",
        "from diffusers import StableDiffusionPipeline\n",
        "import requests\n",
        "from PIL import Image\n",
        "from transformers import BlipProcessor, BlipForConditionalGeneration\n",
        "\n",
        "pipe = StableDiffusionPipeline.from_pretrained(\"ByteDance/sd2.1-base-zsnr-laionaes6\").to(\"cuda\")\n",
        "processor = BlipProcessor.from_pretrained(\"Salesforce/blip-image-captioning-large\")\n",
        "model = BlipForConditionalGeneration.from_pretrained(\"Salesforce/blip-image-captioning-large\")\n",
        "\n",
        "def img2prompt(img):\n",
        "    raw_image = img.convert(\"RGB\")\n",
        "    inputs = processor(raw_image, return_tensors=\"pt\")\n",
        "    out = model.generate(**inputs)\n",
        "    output = processor.decode(out[0], skip_special_tokens=True)\n",
        "    return output\n",
        "\n",
        "def prompt2img(prompt):\n",
        "    pipe = StableDiffusionPipeline.from_pretrained(\"ByteDance/sd2.1-base-zsnr-laionaes6\").to(\"cuda\")\n",
        "    img = pipe(prompt, guidance_scale=7.5, guidance_rescale=0.7).images[0]\n",
        "    return img\n",
        "\n",
        "def wow_img2img(img):\n",
        "    return prompt2img(img2prompt(img))\n",
        "\n",
        "app = gradio.Interface(fn=wow_img2img, inputs=gradio.Image(type=\"pil\"), outputs=gradio.Image(type=\"pil\"))\n",
        "app.launch(share=True)"
      ],
      "metadata": {
        "cellView": "form",
        "id": "R2W8lbr2AtA6"
      },
      "execution_count": null,
      "outputs": []
    },
    {
      "cell_type": "markdown",
      "source": [
        "# Вопрос-ответ\n",
        "### Что делать если у меня не запускается код?\n",
        "Попробуйте снова поменять среду выполнения на `T4 GPU` и повторить выполнение инструкции, а если опять не работает напишите мне\n",
        "### Что делать если я нашёл/нашла баг или у меня есть вопрос?\n",
        "Тогда напишите мне\n",
        "### Как с тобой связаться?\n",
        "У вас есть выбор:\n",
        "1. Напишите мне на почту `arigadam938@hotmail.com` (наверное отвечу но не точно)\n",
        "2. Напишите мне в [телеграмм](https://t.me/Arigadam) (1% что отвечу)\n",
        "3. Напиши мне в [WhatsApp (кликаблельно)](https://api.whatsapp.com/send?phone=79850948335)\n",
        "### Как предложить свой вопрос в \"Вопрос-ответ\"?\n",
        "Напишите мне и я если мне понравится вопрос добавлю его."
      ],
      "metadata": {
        "id": "c8coJkPaF2-2"
      }
    },
    {
      "cell_type": "markdown",
      "source": [
        "# Лицензия (MIT License)\n",
        "Copyright 2024 Arigadam\n",
        "\n",
        "Permission is hereby granted, free of charge, to any person obtaining a copy of this software and associated documentation files (the “Software”), to deal in the Software without restriction, including without limitation the rights to use, copy, modify, merge, publish, distribute, sublicense, and/or sell copies of the Software, and to permit persons to whom the Software is furnished to do so, subject to the following conditions:\n",
        "\n",
        "The above copyright notice and this permission notice shall be included in all copies or substantial portions of the Software.\n",
        "\n",
        "THE SOFTWARE IS PROVIDED “AS IS”, WITHOUT WARRANTY OF ANY KIND, EXPRESS OR IMPLIED, INCLUDING BUT NOT LIMITED TO THE WARRANTIES OF MERCHANTABILITY, FITNESS FOR A PARTICULAR PURPOSE AND NONINFRINGEMENT. IN NO EVENT SHALL THE AUTHORS OR COPYRIGHT HOLDERS BE LIABLE FOR ANY CLAIM, DAMAGES OR OTHER LIABILITY, WHETHER IN AN ACTION OF CONTRACT, TORT OR OTHERWISE, ARISING FROM, OUT OF OR IN CONNECTION WITH THE SOFTWARE OR THE USE OR OTHER DEALINGS IN THE SOFTWARE."
      ],
      "metadata": {
        "id": "gdwBXUHTBga3"
      }
    }
  ]
}